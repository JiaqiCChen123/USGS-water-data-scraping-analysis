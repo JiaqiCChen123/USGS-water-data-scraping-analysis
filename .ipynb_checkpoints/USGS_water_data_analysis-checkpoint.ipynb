{
 "cells": [
  {
   "cell_type": "markdown",
   "metadata": {},
   "source": [
    "### USGS water data scraping & analysis"
   ]
  },
  {
   "cell_type": "code",
   "execution_count": 1,
   "metadata": {},
   "outputs": [],
   "source": [
    "%reload_ext autoreload\n",
    "%autoreload 2\n",
    "import pandas as pd"
   ]
  },
  {
   "cell_type": "markdown",
   "metadata": {},
   "source": [
    "### Method 1: Using wget to acquire data"
   ]
  },
  {
   "cell_type": "code",
   "execution_count": 9,
   "metadata": {},
   "outputs": [],
   "source": [
    "def unpack_dataset():\n",
    "    ! wget \"https://waterservices.usgs.gov/nwis/iv/?format=waterml,2.0&stateCd=hi&parameterCd=00060,00065&siteStatus=all\" --output-document=Hawaii.xml\n",
    "    ! mkdir -p data\n",
    "    ! mv *.xml data"
   ]
  },
  {
   "cell_type": "code",
   "execution_count": 10,
   "metadata": {},
   "outputs": [
    {
     "name": "stdout",
     "output_type": "stream",
     "text": [
      "--2020-06-01 11:19:47--  https://waterservices.usgs.gov/nwis/iv/?format=waterml,2.0&stateCd=hi&parameterCd=00060,00065&siteStatus=all\n",
      "Resolving waterservices.usgs.gov (waterservices.usgs.gov)... 137.227.252.8, 137.227.241.74\n",
      "Connecting to waterservices.usgs.gov (waterservices.usgs.gov)|137.227.252.8|:443... connected.\n",
      "HTTP request sent, awaiting response... 200 OK\n",
      "Length: unspecified [text/xml]\n",
      "Saving to: ‘Hawaii.xml’\n",
      "\n",
      "Hawaii.xml              [   <=>              ] 780.82K  1.08MB/s    in 0.7s    \n",
      "\n",
      "2020-06-01 11:19:49 (1.08 MB/s) - ‘Hawaii.xml’ saved [799563]\n",
      "\n"
     ]
    }
   ],
   "source": [
    "unpack_dataset()"
   ]
  },
  {
   "cell_type": "markdown",
   "metadata": {},
   "source": [
    "### Method 2: Using request to download data"
   ]
  },
  {
   "cell_type": "code",
   "execution_count": 21,
   "metadata": {},
   "outputs": [],
   "source": [
    "import requests\n",
    "URL = \"https://waterservices.usgs.gov/nwis/iv/?format=waterml,2.0&stateCd=hi&parameterCd=00060,00065&siteStatus=all\"\n",
    "response = requests.get(URL)\n",
    "with open('data/hawaii2.xml', 'wb') as file:\n",
    "    file.write(response.content)"
   ]
  },
  {
   "cell_type": "markdown",
   "metadata": {},
   "source": [
    "### Write as a function (e.g. get_state_data() ) which takes in a state abbreviation"
   ]
  },
  {
   "cell_type": "code",
   "execution_count": 41,
   "metadata": {},
   "outputs": [],
   "source": [
    "def get_state_data(state):\n",
    "    \"\"\" The input state should be abbrevation in lower format. \n",
    "    For example, California should be presented as: ca\"\"\"\n",
    "    state = state\n",
    "    URL = \"https://waterservices.usgs.gov/nwis/iv/?format=waterml,2.0&stateCd=%s&parameterCd=00060,00065&siteStatus=all\"%state\n",
    "    response = requests.get(URL)\n",
    "    with open('data/%s.xml'%state, 'wb') as file:\n",
    "        file.write(response.content)\n",
    "        print('%s data donwloaded'%state)"
   ]
  },
  {
   "cell_type": "code",
   "execution_count": 42,
   "metadata": {},
   "outputs": [
    {
     "name": "stdout",
     "output_type": "stream",
     "text": [
      "al data donwloaded\n"
     ]
    }
   ],
   "source": [
    "# download the Alabama data\n",
    "get_state_data('al')"
   ]
  },
  {
   "cell_type": "markdown",
   "metadata": {},
   "source": [
    "### Convert xml file to csv"
   ]
  },
  {
   "cell_type": "code",
   "execution_count": 9,
   "metadata": {},
   "outputs": [],
   "source": [
    "from xml.etree import ElementTree\n",
    "import csv"
   ]
  },
  {
   "cell_type": "code",
   "execution_count": 10,
   "metadata": {},
   "outputs": [],
   "source": [
    "# read xml file\n",
    "tree = ElementTree.parse('data/Hawaii.xml')"
   ]
  },
  {
   "cell_type": "code",
   "execution_count": 13,
   "metadata": {},
   "outputs": [],
   "source": [
    "# create csv file\n",
    "hawaii = open('data/Hawaii.csv', 'w', newline='', encoding='utf-8')\n",
    "csvwriter = csv.writer(hawaii)"
   ]
  },
  {
   "cell_type": "code",
   "execution_count": null,
   "metadata": {},
   "outputs": [],
   "source": []
  }
 ],
 "metadata": {
  "kernelspec": {
   "display_name": "Python 3",
   "language": "python",
   "name": "python3"
  },
  "language_info": {
   "codemirror_mode": {
    "name": "ipython",
    "version": 3
   },
   "file_extension": ".py",
   "mimetype": "text/x-python",
   "name": "python",
   "nbconvert_exporter": "python",
   "pygments_lexer": "ipython3",
   "version": "3.7.3"
  }
 },
 "nbformat": 4,
 "nbformat_minor": 2
}
