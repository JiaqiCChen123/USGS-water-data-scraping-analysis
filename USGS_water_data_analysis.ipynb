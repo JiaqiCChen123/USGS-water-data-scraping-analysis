{
 "cells": [
  {
   "cell_type": "markdown",
   "metadata": {},
   "source": [
    "### USGS water data scraping & analysis"
   ]
  },
  {
   "cell_type": "code",
   "execution_count": 1,
   "metadata": {},
   "outputs": [],
   "source": [
    "%reload_ext autoreload\n",
    "%autoreload 2\n",
    "import pandas as pd"
   ]
  },
  {
   "cell_type": "markdown",
   "metadata": {},
   "source": [
    "### Method 1: Using wget to acquire data"
   ]
  },
  {
   "cell_type": "code",
   "execution_count": 2,
   "metadata": {},
   "outputs": [],
   "source": [
    "def unpack_dataset():\n",
    "    ! wget \"https://waterservices.usgs.gov/nwis/iv/?format=waterml,2.0&stateCd=hi&parameterCd=00060,00065&siteStatus=all\" --output-document=Hawaii.xml\n",
    "    ! mkdir -p data\n",
    "    ! mv *.xml data"
   ]
  },
  {
   "cell_type": "code",
   "execution_count": 3,
   "metadata": {},
   "outputs": [
    {
     "name": "stdout",
     "output_type": "stream",
     "text": [
      "--2020-06-17 08:50:43--  https://waterservices.usgs.gov/nwis/iv/?format=waterml,2.0&stateCd=hi&parameterCd=00060,00065&siteStatus=all\n",
      "Resolving waterservices.usgs.gov (waterservices.usgs.gov)... 137.227.241.74, 137.227.232.147, 137.227.252.8\n",
      "Connecting to waterservices.usgs.gov (waterservices.usgs.gov)|137.227.241.74|:443... connected.\n",
      "HTTP request sent, awaiting response... 200 OK\n",
      "Length: unspecified [text/xml]\n",
      "Saving to: ‘Hawaii.xml’\n",
      "\n",
      "Hawaii.xml              [    <=>             ] 790.49K  1.17MB/s    in 0.7s    \n",
      "\n",
      "2020-06-17 08:50:44 (1.17 MB/s) - ‘Hawaii.xml’ saved [809462]\n",
      "\n"
     ]
    }
   ],
   "source": [
    "unpack_dataset()"
   ]
  },
  {
   "cell_type": "markdown",
   "metadata": {},
   "source": [
    "### Method 2: Using request to download data"
   ]
  },
  {
   "cell_type": "code",
   "execution_count": 4,
   "metadata": {},
   "outputs": [],
   "source": [
    "import requests\n",
    "URL = \"https://waterservices.usgs.gov/nwis/iv/?format=waterml,2.0&stateCd=hi&parameterCd=00060,00065&siteStatus=all\"\n",
    "response = requests.get(URL)\n",
    "with open('data/hawaii2.xml', 'wb') as file:\n",
    "    file.write(response.content)"
   ]
  },
  {
   "cell_type": "markdown",
   "metadata": {},
   "source": [
    "### Write as a function (e.g. get_state_data() ) which takes in a state abbreviation"
   ]
  },
  {
   "cell_type": "code",
   "execution_count": 5,
   "metadata": {},
   "outputs": [],
   "source": [
    "def get_state_data(state):\n",
    "    \"\"\" The input state should be abbrevation in lower format. \n",
    "    For example, California should be presented as: ca\"\"\"\n",
    "    state = state\n",
    "    URL = \"https://waterservices.usgs.gov/nwis/iv/?format=waterml,2.0&stateCd=%s&parameterCd=00060,00065&siteStatus=all\"%state\n",
    "    response = requests.get(URL)\n",
    "    with open('data/%s.xml'%state, 'wb') as file:\n",
    "        file.write(response.content)\n",
    "        print('%s data donwloaded'%state)"
   ]
  },
  {
   "cell_type": "code",
   "execution_count": 6,
   "metadata": {},
   "outputs": [
    {
     "name": "stdout",
     "output_type": "stream",
     "text": [
      "al data donwloaded\n"
     ]
    }
   ],
   "source": [
    "# download the Alabama data\n",
    "get_state_data('al')"
   ]
  },
  {
   "cell_type": "markdown",
   "metadata": {},
   "source": [
    "### Convert xml file to csv"
   ]
  },
  {
   "cell_type": "code",
   "execution_count": 7,
   "metadata": {},
   "outputs": [],
   "source": [
    "from xml.etree import ElementTree\n",
    "import csv"
   ]
  },
  {
   "cell_type": "code",
   "execution_count": 8,
   "metadata": {},
   "outputs": [],
   "source": [
    "# read xml file\n",
    "tree = ElementTree.parse('data/Hawaii.xml')"
   ]
  },
  {
   "cell_type": "code",
   "execution_count": 9,
   "metadata": {},
   "outputs": [],
   "source": [
    "# create csv file\n",
    "hawaii = open('data/Hawaii.csv', 'w', newline='', encoding='utf-8')\n",
    "csvwriter = csv.writer(hawaii)"
   ]
  },
  {
   "cell_type": "markdown",
   "metadata": {},
   "source": [
    "### General functions to extract data"
   ]
  },
  {
   "cell_type": "markdown",
   "metadata": {},
   "source": [
    "This function enables people to get USGS water data in specific state, time period, water type and current status."
   ]
  },
  {
   "cell_type": "code",
   "execution_count": 10,
   "metadata": {},
   "outputs": [],
   "source": [
    "def get_data(state, start_date=None, end_date=None, site_type=None, status='all'):\n",
    "    \"\"\" The input state should be abbrevation in lower format. For example, California should be presented as: ca.\n",
    "    Start/end date should be presented in yyyy-mm-dd format. Water type is presented in ST-abbrevation. For example, \n",
    "    Tidal stream should be presented in: ST-TS. Options for status is: 'all', 'active', 'inactive'.\"\"\"\n",
    "    if start_date:\n",
    "        start_date = '&startDT={}'.format(start_date)\n",
    "    if end_date:\n",
    "        end_date = '&endDT={}'.format(end_date)\n",
    "    if site_type:\n",
    "        site_type = '&siteType={}'.format(site_type)\n",
    "    if status:\n",
    "        status = '&siteStatus={}'.format(status)\n",
    "        \n",
    "    URL = 'https://waterservices.usgs.gov/nwis/iv/?format=waterml,2.0&stateCd={}{}{}&parameterCd=00060,00065{}{}'.\\\n",
    "    format(state, \"\" if start_date is None else start_date, \"\" if end_date is None else end_date, \n",
    "           \"\" if site_type is None else site_type, \"\" if status is None else status)\n",
    "\n",
    "    response = requests.get(URL)\n",
    "    with open('data/%s.xml'%state, 'wb') as file:\n",
    "        file.write(response.content)\n",
    "        print('%s data donwloaded'%state)"
   ]
  },
  {
   "cell_type": "code",
   "execution_count": 11,
   "metadata": {},
   "outputs": [
    {
     "name": "stdout",
     "output_type": "stream",
     "text": [
      "ca data donwloaded\n"
     ]
    }
   ],
   "source": [
    "get_data('ca', '2018-06-23', '2018-06-28','ST-TS', 'active')"
   ]
  },
  {
   "cell_type": "markdown",
   "metadata": {},
   "source": [
    "### Wrap into python package"
   ]
  },
  {
   "cell_type": "code",
   "execution_count": null,
   "metadata": {},
   "outputs": [],
   "source": []
  }
 ],
 "metadata": {
  "kernelspec": {
   "display_name": "Python 3",
   "language": "python",
   "name": "python3"
  },
  "language_info": {
   "codemirror_mode": {
    "name": "ipython",
    "version": 3
   },
   "file_extension": ".py",
   "mimetype": "text/x-python",
   "name": "python",
   "nbconvert_exporter": "python",
   "pygments_lexer": "ipython3",
   "version": "3.7.3"
  }
 },
 "nbformat": 4,
 "nbformat_minor": 2
}
